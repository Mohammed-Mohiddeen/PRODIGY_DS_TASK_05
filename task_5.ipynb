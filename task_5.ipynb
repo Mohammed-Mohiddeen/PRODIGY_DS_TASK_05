{
  "nbformat": 4,
  "nbformat_minor": 0,
  "metadata": {
    "colab": {
      "provenance": []
    },
    "kernelspec": {
      "name": "python3",
      "display_name": "Python 3"
    },
    "language_info": {
      "name": "python"
    }
  },
  "cells": [
    {
      "cell_type": "code",
      "source": [
        "import pandas as pd\n",
        "import matplotlib.pyplot as plt\n",
        "import numpy as np\n",
        "df = pd.read_csv('/kaggle/input/us-accidents/US_Accidents_Dec21_updated.csv')\n",
        "df\n",
        "colors = plt.cm.viridis(np.linspace(0, 1, len(missing_percentage[missing_percentage != 0])))\n",
        "\n",
        "missing_percentage[missing_percentage != 0].plot(kind=\"barh\", color=colors)\n",
        "plt.xlabel('Percentage Missing')\n",
        "plt.ylabel('Columns')\n",
        "plt.title('Percentage of Missing Values in Columns')\n",
        "plt.show()"
      ],
      "metadata": {
        "id": "zd-KpngrX3tY"
      },
      "execution_count": null,
      "outputs": []
    }
  ]
}